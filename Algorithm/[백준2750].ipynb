{
 "cells": [
  {
   "cell_type": "markdown",
   "metadata": {},
   "source": [
    "# 문제 \n",
    "N개의 수가 주어졌을 때, 이를 오름차순으로 정렬하는 프로그램을 작성하시오.\n",
    "\n",
    "# 입력\n",
    "첫째 줄에 수의 개수 N(1 ≤ N ≤ 1,000)이 주어진다. 둘째 줄부터 N개의 줄에는 수 주어진다. 이 수는 절댓값이 1,000보다 작거나 같은 정수이다. 수는 중복되지 않는다.\n",
    "\n",
    "# 출력\n",
    "첫째 줄부터 N개의 줄에 오름차순으로 정렬한 결과를 한 줄에 하나씩 출력한다.\n",
    "\n",
    "# 예제 입력\n",
    "5\n",
    "5\n",
    "2\n",
    "3\n",
    "4\n",
    "1\n",
    "\n",
    "# 예제 출력\n",
    "1\n",
    "2\n",
    "3\n",
    "4\n",
    "5\n"
   ]
  },
  {
   "cell_type": "code",
   "execution_count": null,
   "metadata": {},
   "outputs": [],
   "source": [
    "# 버블 정렬\n",
    "import pdb\n",
    "\n",
    "N = int(input())\n",
    "numbers = []\n",
    "\n",
    "for _ in range(N):\n",
    "    x = int(input())\n",
    "    numbers.append(x)\n",
    "\n",
    "\n",
    "for i in range(len(numbers)):\n",
    "    pdb.set_trace()\n",
    "    for j in range(len(numbers)):\n",
    "        if numbers[i] < numbers[j]:\n",
    "            numbers[i], numbers[j] = numbers[j], numbers[i]\n",
    "\n",
    "for n in numbers:\n",
    "    print(n)\n"
   ]
  },
  {
   "cell_type": "code",
   "execution_count": 9,
   "metadata": {},
   "outputs": [
    {
     "name": "stdout",
     "output_type": "stream",
     "text": [
      "1\n",
      "1\n",
      "2\n",
      "3\n",
      "6\n"
     ]
    }
   ],
   "source": [
    "import pdb\n",
    "\n",
    "N = int(input())\n",
    "nums = []\n",
    "\n",
    "for _ in range(N) : \n",
    "    nums.append(int(input()))\n",
    "\n",
    "# Insert Sort\n",
    "for i in range(1, len(nums)) :\n",
    "    while (i>0) & (nums[i] < nums[i-1]) :\n",
    "        nums[i], nums[i-1] = nums[i-1], nums[i]\n",
    "        \n",
    "        i -= 1\n",
    "        \n",
    "for n in nums : \n",
    "    print(n)"
   ]
  },
  {
   "cell_type": "markdown",
   "metadata": {},
   "source": [
    "# REFERENCE\n",
    "\n",
    "https://roseline124.github.io/algorithm/2019/04/02/Altorithm-baekjoon-2750.html\n"
   ]
  }
 ],
 "metadata": {
  "interpreter": {
   "hash": "f83ce4feadac4a2f390c4b27004b4d12f8f815d5624c4c383d9375d0263fb06e"
  },
  "kernelspec": {
   "display_name": "Python 3.8.5 64-bit ('base': conda)",
   "language": "python",
   "name": "python3"
  },
  "language_info": {
   "codemirror_mode": {
    "name": "ipython",
    "version": 3
   },
   "file_extension": ".py",
   "mimetype": "text/x-python",
   "name": "python",
   "nbconvert_exporter": "python",
   "pygments_lexer": "ipython3",
   "version": "3.7.10"
  },
  "orig_nbformat": 4
 },
 "nbformat": 4,
 "nbformat_minor": 2
}
